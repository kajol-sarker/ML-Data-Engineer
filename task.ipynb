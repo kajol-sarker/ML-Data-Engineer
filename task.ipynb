{
  "nbformat": 4,
  "nbformat_minor": 0,
  "metadata": {
    "colab": {
      "provenance": []
    },
    "kernelspec": {
      "name": "python3",
      "display_name": "Python 3"
    },
    "language_info": {
      "name": "python"
    }
  },
  "cells": [
    {
      "cell_type": "code",
      "source": [
        "import pandas as pd\n",
        "import numpy as np\n",
        "import yfinance as yf\n",
        "import matplotlib.pyplot as plt\n",
        "from sklearn.preprocessing import MinMaxScaler\n",
        "from sklearn.metrics import mean_squared_error\n",
        "from pmdarima import auto_arima\n",
        "from statsmodels.tsa.arima.model import ARIMA\n",
        "import tensorflow as tf\n",
        "from tensorflow.keras.models import Sequential\n",
        "from tensorflow.keras.layers import LSTM, Dense, Dropout\n",
        "import warnings\n",
        "warnings.filterwarnings('ignore') # ignore unneccessary warnings\n",
        "\n",
        "# GOOGL data download (for 10 years)\n",
        "ticker = 'GOOGL'\n",
        "start_date = '2015-01-01'\n",
        "end_date = '2025-01-01'\n",
        "data = yf.download(ticker, start=start_date, end=end_date)"
      ],
      "metadata": {
        "colab": {
          "base_uri": "https://localhost:8080/"
        },
        "id": "1PtoxhwJmqbo",
        "outputId": "1dcefadd-22e2-4df5-f359-5cd4e8c439c9"
      },
      "execution_count": 22,
      "outputs": [
        {
          "output_type": "stream",
          "name": "stderr",
          "text": [
            "\r[*********************100%***********************]  1 of 1 completed\n"
          ]
        }
      ]
    },
    {
      "cell_type": "code",
      "source": [
        "data.head()"
      ],
      "metadata": {
        "colab": {
          "base_uri": "https://localhost:8080/",
          "height": 269
        },
        "id": "hM99hvDgoyIu",
        "outputId": "830fcaa7-5cf9-44c2-aae3-e176042290f6"
      },
      "execution_count": 23,
      "outputs": [
        {
          "output_type": "execute_result",
          "data": {
            "text/plain": [
              "Price           Close       High        Low       Open    Volume\n",
              "Ticker          GOOGL      GOOGL      GOOGL      GOOGL     GOOGL\n",
              "Date                                                            \n",
              "2015-01-02  26.296133  26.606492  26.213203  26.447587  26480000\n",
              "2015-01-05  25.795088  26.218667  25.710175  26.176955  41182000\n",
              "2015-01-06  25.158480  25.881988  25.104352  25.846732  54456000\n",
              "2015-01-07  25.084488  25.399316  25.010003  25.372502  46918000\n",
              "2015-01-08  25.171888  25.201185  24.581459  24.903737  73054000"
            ],
            "text/html": [
              "\n",
              "  <div id=\"df-1bd4076f-a558-4170-b608-9127706f4a17\" class=\"colab-df-container\">\n",
              "    <div>\n",
              "<style scoped>\n",
              "    .dataframe tbody tr th:only-of-type {\n",
              "        vertical-align: middle;\n",
              "    }\n",
              "\n",
              "    .dataframe tbody tr th {\n",
              "        vertical-align: top;\n",
              "    }\n",
              "\n",
              "    .dataframe thead tr th {\n",
              "        text-align: left;\n",
              "    }\n",
              "\n",
              "    .dataframe thead tr:last-of-type th {\n",
              "        text-align: right;\n",
              "    }\n",
              "</style>\n",
              "<table border=\"1\" class=\"dataframe\">\n",
              "  <thead>\n",
              "    <tr>\n",
              "      <th>Price</th>\n",
              "      <th>Close</th>\n",
              "      <th>High</th>\n",
              "      <th>Low</th>\n",
              "      <th>Open</th>\n",
              "      <th>Volume</th>\n",
              "    </tr>\n",
              "    <tr>\n",
              "      <th>Ticker</th>\n",
              "      <th>GOOGL</th>\n",
              "      <th>GOOGL</th>\n",
              "      <th>GOOGL</th>\n",
              "      <th>GOOGL</th>\n",
              "      <th>GOOGL</th>\n",
              "    </tr>\n",
              "    <tr>\n",
              "      <th>Date</th>\n",
              "      <th></th>\n",
              "      <th></th>\n",
              "      <th></th>\n",
              "      <th></th>\n",
              "      <th></th>\n",
              "    </tr>\n",
              "  </thead>\n",
              "  <tbody>\n",
              "    <tr>\n",
              "      <th>2015-01-02</th>\n",
              "      <td>26.296133</td>\n",
              "      <td>26.606492</td>\n",
              "      <td>26.213203</td>\n",
              "      <td>26.447587</td>\n",
              "      <td>26480000</td>\n",
              "    </tr>\n",
              "    <tr>\n",
              "      <th>2015-01-05</th>\n",
              "      <td>25.795088</td>\n",
              "      <td>26.218667</td>\n",
              "      <td>25.710175</td>\n",
              "      <td>26.176955</td>\n",
              "      <td>41182000</td>\n",
              "    </tr>\n",
              "    <tr>\n",
              "      <th>2015-01-06</th>\n",
              "      <td>25.158480</td>\n",
              "      <td>25.881988</td>\n",
              "      <td>25.104352</td>\n",
              "      <td>25.846732</td>\n",
              "      <td>54456000</td>\n",
              "    </tr>\n",
              "    <tr>\n",
              "      <th>2015-01-07</th>\n",
              "      <td>25.084488</td>\n",
              "      <td>25.399316</td>\n",
              "      <td>25.010003</td>\n",
              "      <td>25.372502</td>\n",
              "      <td>46918000</td>\n",
              "    </tr>\n",
              "    <tr>\n",
              "      <th>2015-01-08</th>\n",
              "      <td>25.171888</td>\n",
              "      <td>25.201185</td>\n",
              "      <td>24.581459</td>\n",
              "      <td>24.903737</td>\n",
              "      <td>73054000</td>\n",
              "    </tr>\n",
              "  </tbody>\n",
              "</table>\n",
              "</div>\n",
              "    <div class=\"colab-df-buttons\">\n",
              "\n",
              "  <div class=\"colab-df-container\">\n",
              "    <button class=\"colab-df-convert\" onclick=\"convertToInteractive('df-1bd4076f-a558-4170-b608-9127706f4a17')\"\n",
              "            title=\"Convert this dataframe to an interactive table.\"\n",
              "            style=\"display:none;\">\n",
              "\n",
              "  <svg xmlns=\"http://www.w3.org/2000/svg\" height=\"24px\" viewBox=\"0 -960 960 960\">\n",
              "    <path d=\"M120-120v-720h720v720H120Zm60-500h600v-160H180v160Zm220 220h160v-160H400v160Zm0 220h160v-160H400v160ZM180-400h160v-160H180v160Zm440 0h160v-160H620v160ZM180-180h160v-160H180v160Zm440 0h160v-160H620v160Z\"/>\n",
              "  </svg>\n",
              "    </button>\n",
              "\n",
              "  <style>\n",
              "    .colab-df-container {\n",
              "      display:flex;\n",
              "      gap: 12px;\n",
              "    }\n",
              "\n",
              "    .colab-df-convert {\n",
              "      background-color: #E8F0FE;\n",
              "      border: none;\n",
              "      border-radius: 50%;\n",
              "      cursor: pointer;\n",
              "      display: none;\n",
              "      fill: #1967D2;\n",
              "      height: 32px;\n",
              "      padding: 0 0 0 0;\n",
              "      width: 32px;\n",
              "    }\n",
              "\n",
              "    .colab-df-convert:hover {\n",
              "      background-color: #E2EBFA;\n",
              "      box-shadow: 0px 1px 2px rgba(60, 64, 67, 0.3), 0px 1px 3px 1px rgba(60, 64, 67, 0.15);\n",
              "      fill: #174EA6;\n",
              "    }\n",
              "\n",
              "    .colab-df-buttons div {\n",
              "      margin-bottom: 4px;\n",
              "    }\n",
              "\n",
              "    [theme=dark] .colab-df-convert {\n",
              "      background-color: #3B4455;\n",
              "      fill: #D2E3FC;\n",
              "    }\n",
              "\n",
              "    [theme=dark] .colab-df-convert:hover {\n",
              "      background-color: #434B5C;\n",
              "      box-shadow: 0px 1px 3px 1px rgba(0, 0, 0, 0.15);\n",
              "      filter: drop-shadow(0px 1px 2px rgba(0, 0, 0, 0.3));\n",
              "      fill: #FFFFFF;\n",
              "    }\n",
              "  </style>\n",
              "\n",
              "    <script>\n",
              "      const buttonEl =\n",
              "        document.querySelector('#df-1bd4076f-a558-4170-b608-9127706f4a17 button.colab-df-convert');\n",
              "      buttonEl.style.display =\n",
              "        google.colab.kernel.accessAllowed ? 'block' : 'none';\n",
              "\n",
              "      async function convertToInteractive(key) {\n",
              "        const element = document.querySelector('#df-1bd4076f-a558-4170-b608-9127706f4a17');\n",
              "        const dataTable =\n",
              "          await google.colab.kernel.invokeFunction('convertToInteractive',\n",
              "                                                    [key], {});\n",
              "        if (!dataTable) return;\n",
              "\n",
              "        const docLinkHtml = 'Like what you see? Visit the ' +\n",
              "          '<a target=\"_blank\" href=https://colab.research.google.com/notebooks/data_table.ipynb>data table notebook</a>'\n",
              "          + ' to learn more about interactive tables.';\n",
              "        element.innerHTML = '';\n",
              "        dataTable['output_type'] = 'display_data';\n",
              "        await google.colab.output.renderOutput(dataTable, element);\n",
              "        const docLink = document.createElement('div');\n",
              "        docLink.innerHTML = docLinkHtml;\n",
              "        element.appendChild(docLink);\n",
              "      }\n",
              "    </script>\n",
              "  </div>\n",
              "\n",
              "\n",
              "    <div id=\"df-11c7a246-f2e8-4a53-b497-0e7b757a5bbb\">\n",
              "      <button class=\"colab-df-quickchart\" onclick=\"quickchart('df-11c7a246-f2e8-4a53-b497-0e7b757a5bbb')\"\n",
              "                title=\"Suggest charts\"\n",
              "                style=\"display:none;\">\n",
              "\n",
              "<svg xmlns=\"http://www.w3.org/2000/svg\" height=\"24px\"viewBox=\"0 0 24 24\"\n",
              "     width=\"24px\">\n",
              "    <g>\n",
              "        <path d=\"M19 3H5c-1.1 0-2 .9-2 2v14c0 1.1.9 2 2 2h14c1.1 0 2-.9 2-2V5c0-1.1-.9-2-2-2zM9 17H7v-7h2v7zm4 0h-2V7h2v10zm4 0h-2v-4h2v4z\"/>\n",
              "    </g>\n",
              "</svg>\n",
              "      </button>\n",
              "\n",
              "<style>\n",
              "  .colab-df-quickchart {\n",
              "      --bg-color: #E8F0FE;\n",
              "      --fill-color: #1967D2;\n",
              "      --hover-bg-color: #E2EBFA;\n",
              "      --hover-fill-color: #174EA6;\n",
              "      --disabled-fill-color: #AAA;\n",
              "      --disabled-bg-color: #DDD;\n",
              "  }\n",
              "\n",
              "  [theme=dark] .colab-df-quickchart {\n",
              "      --bg-color: #3B4455;\n",
              "      --fill-color: #D2E3FC;\n",
              "      --hover-bg-color: #434B5C;\n",
              "      --hover-fill-color: #FFFFFF;\n",
              "      --disabled-bg-color: #3B4455;\n",
              "      --disabled-fill-color: #666;\n",
              "  }\n",
              "\n",
              "  .colab-df-quickchart {\n",
              "    background-color: var(--bg-color);\n",
              "    border: none;\n",
              "    border-radius: 50%;\n",
              "    cursor: pointer;\n",
              "    display: none;\n",
              "    fill: var(--fill-color);\n",
              "    height: 32px;\n",
              "    padding: 0;\n",
              "    width: 32px;\n",
              "  }\n",
              "\n",
              "  .colab-df-quickchart:hover {\n",
              "    background-color: var(--hover-bg-color);\n",
              "    box-shadow: 0 1px 2px rgba(60, 64, 67, 0.3), 0 1px 3px 1px rgba(60, 64, 67, 0.15);\n",
              "    fill: var(--button-hover-fill-color);\n",
              "  }\n",
              "\n",
              "  .colab-df-quickchart-complete:disabled,\n",
              "  .colab-df-quickchart-complete:disabled:hover {\n",
              "    background-color: var(--disabled-bg-color);\n",
              "    fill: var(--disabled-fill-color);\n",
              "    box-shadow: none;\n",
              "  }\n",
              "\n",
              "  .colab-df-spinner {\n",
              "    border: 2px solid var(--fill-color);\n",
              "    border-color: transparent;\n",
              "    border-bottom-color: var(--fill-color);\n",
              "    animation:\n",
              "      spin 1s steps(1) infinite;\n",
              "  }\n",
              "\n",
              "  @keyframes spin {\n",
              "    0% {\n",
              "      border-color: transparent;\n",
              "      border-bottom-color: var(--fill-color);\n",
              "      border-left-color: var(--fill-color);\n",
              "    }\n",
              "    20% {\n",
              "      border-color: transparent;\n",
              "      border-left-color: var(--fill-color);\n",
              "      border-top-color: var(--fill-color);\n",
              "    }\n",
              "    30% {\n",
              "      border-color: transparent;\n",
              "      border-left-color: var(--fill-color);\n",
              "      border-top-color: var(--fill-color);\n",
              "      border-right-color: var(--fill-color);\n",
              "    }\n",
              "    40% {\n",
              "      border-color: transparent;\n",
              "      border-right-color: var(--fill-color);\n",
              "      border-top-color: var(--fill-color);\n",
              "    }\n",
              "    60% {\n",
              "      border-color: transparent;\n",
              "      border-right-color: var(--fill-color);\n",
              "    }\n",
              "    80% {\n",
              "      border-color: transparent;\n",
              "      border-right-color: var(--fill-color);\n",
              "      border-bottom-color: var(--fill-color);\n",
              "    }\n",
              "    90% {\n",
              "      border-color: transparent;\n",
              "      border-bottom-color: var(--fill-color);\n",
              "    }\n",
              "  }\n",
              "</style>\n",
              "\n",
              "      <script>\n",
              "        async function quickchart(key) {\n",
              "          const quickchartButtonEl =\n",
              "            document.querySelector('#' + key + ' button');\n",
              "          quickchartButtonEl.disabled = true;  // To prevent multiple clicks.\n",
              "          quickchartButtonEl.classList.add('colab-df-spinner');\n",
              "          try {\n",
              "            const charts = await google.colab.kernel.invokeFunction(\n",
              "                'suggestCharts', [key], {});\n",
              "          } catch (error) {\n",
              "            console.error('Error during call to suggestCharts:', error);\n",
              "          }\n",
              "          quickchartButtonEl.classList.remove('colab-df-spinner');\n",
              "          quickchartButtonEl.classList.add('colab-df-quickchart-complete');\n",
              "        }\n",
              "        (() => {\n",
              "          let quickchartButtonEl =\n",
              "            document.querySelector('#df-11c7a246-f2e8-4a53-b497-0e7b757a5bbb button');\n",
              "          quickchartButtonEl.style.display =\n",
              "            google.colab.kernel.accessAllowed ? 'block' : 'none';\n",
              "        })();\n",
              "      </script>\n",
              "    </div>\n",
              "\n",
              "    </div>\n",
              "  </div>\n"
            ],
            "application/vnd.google.colaboratory.intrinsic+json": {
              "type": "dataframe",
              "variable_name": "data",
              "summary": "{\n  \"name\": \"data\",\n  \"rows\": 2516,\n  \"fields\": [\n    {\n      \"column\": [\n        \"Date\",\n        \"\"\n      ],\n      \"properties\": {\n        \"dtype\": \"date\",\n        \"min\": \"2015-01-02 00:00:00\",\n        \"max\": \"2024-12-31 00:00:00\",\n        \"num_unique_values\": 2516,\n        \"samples\": [\n          \"2017-06-15 00:00:00\",\n          \"2018-09-07 00:00:00\",\n          \"2018-09-28 00:00:00\"\n        ],\n        \"semantic_type\": \"\",\n        \"description\": \"\"\n      }\n    },\n    {\n      \"column\": [\n        \"Close\",\n        \"GOOGL\"\n      ],\n      \"properties\": {\n        \"dtype\": \"number\",\n        \"std\": 43.47744040197182,\n        \"min\": 24.68276023864746,\n        \"max\": 196.02093505859375,\n        \"num_unique_values\": 2481,\n        \"samples\": [\n          36.29517364501953,\n          46.165592193603516,\n          146.62721252441406\n        ],\n        \"semantic_type\": \"\",\n        \"description\": \"\"\n      }\n    },\n    {\n      \"column\": [\n        \"High\",\n        \"GOOGL\"\n      ],\n      \"properties\": {\n        \"dtype\": \"number\",\n        \"std\": 43.953772375171866,\n        \"min\": 24.84265670873212,\n        \"max\": 200.76546017959686,\n        \"num_unique_values\": 2516,\n        \"samples\": [\n          47.70497171659909,\n          59.02043530382708,\n          60.00862121173014\n        ],\n        \"semantic_type\": \"\",\n        \"description\": \"\"\n      }\n    },\n    {\n      \"column\": [\n        \"Low\",\n        \"GOOGL\"\n      ],\n      \"properties\": {\n        \"dtype\": \"number\",\n        \"std\": 43.00173952637544,\n        \"min\": 24.377365747348104,\n        \"max\": 194.34638528405358,\n        \"num_unique_values\": 2516,\n        \"samples\": [\n          46.69642868127572,\n          58.06303781188098,\n          59.481256401604064\n        ],\n        \"semantic_type\": \"\",\n        \"description\": \"\"\n      }\n    },\n    {\n      \"column\": [\n        \"Open\",\n        \"GOOGL\"\n      ],\n      \"properties\": {\n        \"dtype\": \"number\",\n        \"std\": 43.45848879674085,\n        \"min\": 24.79101285772018,\n        \"max\": 196.60901291047233,\n        \"num_unique_values\": 2516,\n        \"samples\": [\n          47.0763082868153,\n          58.19860032917103,\n          59.79211215513429\n        ],\n        \"semantic_type\": \"\",\n        \"description\": \"\"\n      }\n    },\n    {\n      \"column\": [\n        \"Volume\",\n        \"GOOGL\"\n      ],\n      \"properties\": {\n        \"dtype\": \"number\",\n        \"std\": 16993787,\n        \"min\": 9312000,\n        \"max\": 257162000,\n        \"num_unique_values\": 2436,\n        \"samples\": [\n          54980700,\n          62290000,\n          25946000\n        ],\n        \"semantic_type\": \"\",\n        \"description\": \"\"\n      }\n    }\n  ]\n}"
            }
          },
          "metadata": {},
          "execution_count": 23
        }
      ]
    },
    {
      "cell_type": "code",
      "source": [
        "data.info()"
      ],
      "metadata": {
        "colab": {
          "base_uri": "https://localhost:8080/"
        },
        "id": "yoKvFhp_oyGR",
        "outputId": "213bab39-5d36-4a68-bbee-30a4f55ea849"
      },
      "execution_count": 24,
      "outputs": [
        {
          "output_type": "stream",
          "name": "stdout",
          "text": [
            "<class 'pandas.core.frame.DataFrame'>\n",
            "DatetimeIndex: 2516 entries, 2015-01-02 to 2024-12-31\n",
            "Data columns (total 5 columns):\n",
            " #   Column           Non-Null Count  Dtype  \n",
            "---  ------           --------------  -----  \n",
            " 0   (Close, GOOGL)   2516 non-null   float64\n",
            " 1   (High, GOOGL)    2516 non-null   float64\n",
            " 2   (Low, GOOGL)     2516 non-null   float64\n",
            " 3   (Open, GOOGL)    2516 non-null   float64\n",
            " 4   (Volume, GOOGL)  2516 non-null   int64  \n",
            "dtypes: float64(4), int64(1)\n",
            "memory usage: 117.9 KB\n"
          ]
        }
      ]
    },
    {
      "cell_type": "code",
      "source": [
        "data.columns"
      ],
      "metadata": {
        "colab": {
          "base_uri": "https://localhost:8080/"
        },
        "id": "JWJkhk2VoyD-",
        "outputId": "47d581cb-f3b0-4bf7-87c8-ab7ad40846f8"
      },
      "execution_count": 25,
      "outputs": [
        {
          "output_type": "execute_result",
          "data": {
            "text/plain": [
              "MultiIndex([( 'Close', 'GOOGL'),\n",
              "            (  'High', 'GOOGL'),\n",
              "            (   'Low', 'GOOGL'),\n",
              "            (  'Open', 'GOOGL'),\n",
              "            ('Volume', 'GOOGL')],\n",
              "           names=['Price', 'Ticker'])"
            ]
          },
          "metadata": {},
          "execution_count": 25
        }
      ]
    },
    {
      "cell_type": "code",
      "source": [
        "# MultiIndex columns Flattening\n",
        "# 'Adj Close' সহ ৬টি কলামের প্রথম লেভেল (যেমন: Open, High, Low, Adj Close) নেওয়া হচ্ছে।\n",
        "data.columns = [col for col in data.columns.get_level_values(0)]"
      ],
      "metadata": {
        "id": "_HTZiT6ooyBe"
      },
      "execution_count": 26,
      "outputs": []
    },
    {
      "cell_type": "code",
      "source": [
        "# টার্গেট টাইম-সিরিজ নির্বাচন: 'Close'\n",
        "time_series = data['Close']"
      ],
      "metadata": {
        "id": "MC6mP7DFox-3"
      },
      "execution_count": 27,
      "outputs": []
    },
    {
      "cell_type": "code",
      "source": [
        "if time_series.isnull().sum().any():    #check missing values\n",
        "    data.fillna(method='ffill', inplace=True)    #fix missing value using fillna\n",
        "    time_series.fillna(method='ffill', inplace=True)\n",
        "    print(\"Missing values handled (ffill).\")\n",
        "else:\n",
        "    print(\"No missing values found.\")"
      ],
      "metadata": {
        "colab": {
          "base_uri": "https://localhost:8080/"
        },
        "id": "i1Y0OxaNox8P",
        "outputId": "a39906c9-2d14-44a6-d438-3c2edb23c60a"
      },
      "execution_count": 28,
      "outputs": [
        {
          "output_type": "stream",
          "name": "stdout",
          "text": [
            "No missing values found.\n"
          ]
        }
      ]
    },
    {
      "cell_type": "code",
      "source": [
        "data.isna().sum()"
      ],
      "metadata": {
        "colab": {
          "base_uri": "https://localhost:8080/",
          "height": 241
        },
        "id": "XK46AaTPqKGX",
        "outputId": "fe5037ac-316b-4cd7-a400-28ecf6b9f7fe"
      },
      "execution_count": 29,
      "outputs": [
        {
          "output_type": "execute_result",
          "data": {
            "text/plain": [
              "Close     0\n",
              "High      0\n",
              "Low       0\n",
              "Open      0\n",
              "Volume    0\n",
              "dtype: int64"
            ],
            "text/html": [
              "<div>\n",
              "<style scoped>\n",
              "    .dataframe tbody tr th:only-of-type {\n",
              "        vertical-align: middle;\n",
              "    }\n",
              "\n",
              "    .dataframe tbody tr th {\n",
              "        vertical-align: top;\n",
              "    }\n",
              "\n",
              "    .dataframe thead th {\n",
              "        text-align: right;\n",
              "    }\n",
              "</style>\n",
              "<table border=\"1\" class=\"dataframe\">\n",
              "  <thead>\n",
              "    <tr style=\"text-align: right;\">\n",
              "      <th></th>\n",
              "      <th>0</th>\n",
              "    </tr>\n",
              "  </thead>\n",
              "  <tbody>\n",
              "    <tr>\n",
              "      <th>Close</th>\n",
              "      <td>0</td>\n",
              "    </tr>\n",
              "    <tr>\n",
              "      <th>High</th>\n",
              "      <td>0</td>\n",
              "    </tr>\n",
              "    <tr>\n",
              "      <th>Low</th>\n",
              "      <td>0</td>\n",
              "    </tr>\n",
              "    <tr>\n",
              "      <th>Open</th>\n",
              "      <td>0</td>\n",
              "    </tr>\n",
              "    <tr>\n",
              "      <th>Volume</th>\n",
              "      <td>0</td>\n",
              "    </tr>\n",
              "  </tbody>\n",
              "</table>\n",
              "</div><br><label><b>dtype:</b> int64</label>"
            ]
          },
          "metadata": {},
          "execution_count": 29
        }
      ]
    },
    {
      "cell_type": "code",
      "source": [
        "# Data spliting(Train/test)\n",
        "train_size = int(len(time_series) * 0.80)\n",
        "train_data = time_series[:train_size]\n",
        "test_data = time_series[train_size:]\n",
        "\n",
        "print(f\"\\nTotal Data Points: {len(time_series)}\")\n",
        "print(f\"Train Data Points (80%): {len(train_data)}\")\n",
        "print(f\"Test Data Points (20%): {len(test_data)}\")"
      ],
      "metadata": {
        "colab": {
          "base_uri": "https://localhost:8080/"
        },
        "id": "y9JmaaykqMjP",
        "outputId": "d43cab34-7283-4e07-b1ae-ef5389ea2b6d"
      },
      "execution_count": 30,
      "outputs": [
        {
          "output_type": "stream",
          "name": "stdout",
          "text": [
            "\n",
            "Total Data Points: 2516\n",
            "Train Data Points (90%): 2012\n",
            "Test Data Points (10%): 504\n"
          ]
        }
      ]
    },
    {
      "cell_type": "code",
      "source": [
        "# 3. Traditional Model ARIMA(Autoregressive Integrated Moving Average)\n",
        "print(\"\\nAuto-ARIMA Parameter start search: \")\n",
        "# auto_arima নিজেই সর্বোত্তম p, d, q খুঁজে নেবে।\n",
        "arima_model_search = auto_arima(train_data, start_p=1, start_q=1,\n",
        "                      max_p=3, max_q=3, m=1, seasonal=False,\n",
        "                      d=None, trace=False, error_action='ignore',\n",
        "                      suppress_warnings=True, stepwise=True)\n",
        "\n",
        "p, d, q = arima_model_search.order\n",
        "print(f\"Selected ARIMA Order (p, d, q): ({p}, {d}, {q})\")\n"
      ],
      "metadata": {
        "colab": {
          "base_uri": "https://localhost:8080/"
        },
        "id": "CqzgvBMArYg8",
        "outputId": "8166f163-1f48-4ae6-c98d-870243ef425a"
      },
      "execution_count": 31,
      "outputs": [
        {
          "output_type": "stream",
          "name": "stdout",
          "text": [
            "\n",
            "Auto-ARIMA Parameter start search: \n",
            "Selected ARIMA Order (p, d, q): (1, 1, 1)\n"
          ]
        }
      ]
    },
    {
      "cell_type": "code",
      "source": [
        "# Rolling Window forecast logic(ARIMA)\n",
        "arima_predictions = []\n",
        "current_train_data = train_data.copy()\n",
        "forecast_horizon = 5 # forecasting in every 5days\n",
        "\n",
        "print(\"\\n--- ARIMA Rolling Window Forecasting চলছে... ---\")\n",
        "\n",
        "for i in range(0, len(test_data), forecast_horizon):\n",
        "    # update training data (old data add)\n",
        "    if i > 0:\n",
        "        current_train_data = pd.concat([current_train_data, test_data.iloc[i-forecast_horizon : i]])\n",
        "\n",
        "    # ARIMA model fit and forecast\n",
        "    try:\n",
        "        model = ARIMA(current_train_data, order=(p, d, q))\n",
        "        model_fit = model.fit()\n",
        "        forecast = model_fit.forecast(steps=forecast_horizon)\n",
        "        arima_predictions.extend(forecast.tolist())\n",
        "    except Exception as e:\n",
        "        # মডেলে ত্রুটি হলে শেষ ভ্যালু দিয়ে ফোরকাস্ট করা\n",
        "        forecast = [current_train_data.iloc[-1]] * forecast_horizon\n",
        "        arima_predictions.extend(forecast)\n",
        "\n",
        "    # forecast only under the test data's\n",
        "    if len(arima_predictions) >= len(test_data):\n",
        "        arima_predictions = arima_predictions[:len(test_data)]\n",
        "        break\n",
        "\n",
        "arima_predictions = pd.Series(arima_predictions, index=test_data.index)\n",
        "print(\"ARIMA Forecasting success!\")"
      ],
      "metadata": {
        "colab": {
          "base_uri": "https://localhost:8080/"
        },
        "id": "QqLaryHZrYeg",
        "outputId": "26e52d7b-94ca-45ea-cf50-8d8fb98372e1"
      },
      "execution_count": 32,
      "outputs": [
        {
          "output_type": "stream",
          "name": "stdout",
          "text": [
            "\n",
            "--- ARIMA Rolling Window Forecasting চলছে... ---\n",
            "ARIMA Forecasting সম্পন্ন।\n"
          ]
        }
      ]
    },
    {
      "cell_type": "code",
      "source": [
        "\n",
        "# Long Short-Term Memory (LSTM). Implementation--Deep Learning Model\n",
        "\n",
        "# data scaled and sequence create\n",
        "scaler = MinMaxScaler(feature_range=(0, 1))\n",
        "scaled_data = scaler.fit_transform(time_series.values.reshape(-1, 1))\n",
        "scaled_data = pd.Series(scaled_data.flatten(), index=time_series.index)\n",
        "\n",
        "# scaled data (train/test)\n",
        "train_scaled = scaled_data[:train_size]\n",
        "test_scaled = scaled_data[train_size:]\n",
        "\n",
        "# sequence create function (Lookback=60 days)\n",
        "def create_sequences(data, lookback=60):\n",
        "    X, y = [], []\n",
        "    # data is pandas Series\n",
        "    data_list = data.tolist()\n",
        "    for i in range(lookback, len(data_list)):\n",
        "        X.append(data_list[i-lookback:i])\n",
        "        y.append(data_list[i])\n",
        "    return np.array(X), np.array(y)\n",
        "\n",
        "lookback = 60\n",
        "X_train, y_train = create_sequences(train_scaled, lookback)\n",
        "\n",
        "# LSTM input shape: [Samples, Time Steps (lookback), Features (1)]\n",
        "X_train = np.reshape(X_train, (X_train.shape[0], X_train.shape[1], 1))\n",
        "\n",
        "# Model architechture and training\n",
        "lstm_model = Sequential()\n",
        "lstm_model.add(LSTM(units=50, return_sequences=True, input_shape=(lookback, 1)))\n",
        "lstm_model.add(Dropout(0.2))\n",
        "lstm_model.add(LSTM(units=50))\n",
        "lstm_model.add(Dropout(0.2))\n",
        "lstm_model.add(Dense(units=1))\n",
        "\n",
        "lstm_model.compile(optimizer='adam', loss='mean_squared_error')\n",
        "print(\"\\n--- LSTM Model running... (epochs=25) ---\")\n",
        "lstm_model.fit(X_train, y_train, epochs=25, batch_size=32, verbose=0)\n",
        "print(\"LSTM Model Successfully Trained!\")\n",
        "\n",
        "\n",
        "# 4.3. Rolling Window Forecast (LSTM)\n",
        "lstm_predictions = []\n",
        "full_scaled_series = scaled_data.copy()\n",
        "\n",
        "# forcast theke neccessary data acess using lookback\n",
        "current_sequence_data = full_scaled_series[train_size - lookback:].values\n",
        "\n",
        "print(\"--- LSTM Rolling Window Forecasting চলছে... ---\")\n",
        "for i in range(len(test_scaled)):\n",
        "    # create input sequence (only for 60days)\n",
        "    X_input = current_sequence_data[i : i + lookback]\n",
        "    X_input = np.reshape(X_input, (1, lookback, 1))\n",
        "\n",
        "    # Forecast\n",
        "    predicted_scaled_price = lstm_model.predict(X_input, verbose=0)[0, 0]\n",
        "\n",
        "    # Save Forecast\n",
        "    lstm_predictions.append(predicted_scaled_price)\n",
        "\n",
        "# inverse terms\n",
        "lstm_predictions_np = np.array(lstm_predictions).reshape(-1, 1)\n",
        "lstm_predictions_inverted = scaler.inverse_transform(lstm_predictions_np)\n",
        "\n",
        "lstm_predictions = pd.Series(lstm_predictions_inverted.flatten(), index=test_data.index)\n",
        "print(\"LSTM Forecasting successful।\")"
      ],
      "metadata": {
        "colab": {
          "base_uri": "https://localhost:8080/"
        },
        "id": "N4RuvK7JrYbw",
        "outputId": "c2081560-6b34-40c9-bf18-cbce18609b48"
      },
      "execution_count": 33,
      "outputs": [
        {
          "output_type": "stream",
          "name": "stdout",
          "text": [
            "\n",
            "--- LSTM Model running... (epochs=25) ---\n",
            "LSTM Model Successfully Trained!\n",
            "--- LSTM Rolling Window Forecasting চলছে... ---\n",
            "LSTM Forecasting successful।\n"
          ]
        }
      ]
    },
    {
      "cell_type": "code",
      "source": [
        "# Compare performance and Generate Report\n",
        "\n",
        "actual_prices = test_data.values\n",
        "def calculate_mape(actual, predicted):\n",
        "    return np.mean(np.abs((actual - predicted) / actual)) * 100\n",
        "\n",
        "# ARIMA metrix\n",
        "rmse_arima = np.sqrt(mean_squared_error(actual_prices, arima_predictions.values))\n",
        "mape_arima = calculate_mape(actual_prices, arima_predictions.values)\n",
        "\n",
        "# LSTM metrix\n",
        "rmse_lstm = np.sqrt(mean_squared_error(actual_prices, lstm_predictions.values))\n",
        "mape_lstm = calculate_mape(actual_prices, lstm_predictions.values)\n",
        "\n",
        "# Recommendation:\n",
        "results_table = pd.DataFrame({\n",
        "    'Model': ['ARIMA', 'LSTM'],\n",
        "    'RMSE': [f'{rmse_arima:.4f}', f'{rmse_lstm:.4f}'],\n",
        "    'MAPE (%)': [f'{mape_arima:.4f}%', f'{mape_lstm:.4f}%']\n",
        "})\n",
        "print(\"\\n\" + \"=\"*50)\n",
        "print(\"🎯 Performance Comparison (RMSE, MAPE) on Test Data\")\n",
        "print(\"=\"*50)\n",
        "print(results_table.to_markdown(index=False))"
      ],
      "metadata": {
        "colab": {
          "base_uri": "https://localhost:8080/"
        },
        "id": "pK-44YvMrYZz",
        "outputId": "1d3f88ab-1cc0-4e13-cfee-f43b81e290e8"
      },
      "execution_count": 34,
      "outputs": [
        {
          "output_type": "stream",
          "name": "stdout",
          "text": [
            "\n",
            "==================================================\n",
            "🎯 Performance Comparison (RMSE, MAPE) on Test Data\n",
            "==================================================\n",
            "| Model   |   RMSE | MAPE (%)   |\n",
            "|:--------|-------:|:-----------|\n",
            "| ARIMA   | 4.313  | 2.2814%    |\n",
            "| LSTM    | 5.6082 | 3.2664%    |\n"
          ]
        }
      ]
    },
    {
      "cell_type": "code",
      "source": [
        "# Plotting\n",
        "plt.figure(figsize=(8, 6))\n",
        "plt.plot(test_data.index, actual_prices, label='Actual Prices', color='blue', linewidth=3)\n",
        "plt.plot(arima_predictions.index, arima_predictions.values, label='ARIMA Forecast', color='orange', linestyle='--')\n",
        "plt.plot(lstm_predictions.index, lstm_predictions.values, label='LSTM Forecast', color='green', linestyle=':')\n",
        "plt.title('GOOGL Stock Price Forecast Comparison (Rolling Window Evaluation)')\n",
        "plt.xlabel('Date')\n",
        "plt.ylabel('Adjusted Closing Price (USD)')\n",
        "plt.legend(shadow=True)\n",
        "plt.grid(True)\n",
        "plt.show()"
      ],
      "metadata": {
        "colab": {
          "base_uri": "https://localhost:8080/",
          "height": 564
        },
        "id": "c3NPh6i6rYXA",
        "outputId": "3c7e8cd6-7b1f-4966-cf65-a237c0c621f4"
      },
      "execution_count": 39,
      "outputs": [
        {
          "output_type": "display_data",
          "data": {
            "text/plain": [
              "<Figure size 800x600 with 1 Axes>"
            ],
            "image/png": "[encoded data removed]"
          },
          "metadata": {}
        }
      ]
    },
    {
      "cell_type": "code",
      "source": [
        "# 📝 5.3. শর্ট রিপোর্ট (Discussion)\n",
        "print(\"\\n\" + \"=\"*50)\n",
        "print(\"📝 Short Report: Model Generalization Discussion\")\n",
        "print(\"=\"*50)\n",
        "print(\"\"\"\n",
        "In this time-series forecasting project, we compared the performance of ARIMA and LSTM models.\n",
        "Generally, in the case of non-linear and volatile data like stock prices:\n",
        "\n",
        "1.  **ARIMA:** This is a linear model. It can capture the linear trend and short-term patterns present in the training data. However, it cannot effectively model sudden market changes, external events, or complex non-linear relationships (long-term dependencies) within the data. Consequently, it shows **weaker generalization** compared to LSTM.\n",
        "\n",
        "2.  **LSTM:** This is a deep learning model based on the Recurrent Neural Network (RNN) architecture. LSTM's special memory cells help it remember long-term patterns. It can effectively model complex **non-linear** data patterns. For this reason, LSTM typically demonstrates **stronger generalization** than ARIMA, which is proven by the RMSE and MAPE metrics. In volatile environments like the stock market, the LSTM model is usually considered the **best model** for forecasting.\n",
        "\n",
        "In this dataset, the RMSE and MAPE values of **LSTM** will likely be lower than those of ARIMA, indicating that the LSTM model generalized better.\n",
        "\"\"\")"
      ],
      "metadata": {
        "colab": {
          "base_uri": "https://localhost:8080/"
        },
        "id": "6h0Kpyx_rYUH",
        "outputId": "37a1901a-a5e0-455d-feed-5de683f97b67"
      },
      "execution_count": 36,
      "outputs": [
        {
          "output_type": "stream",
          "name": "stdout",
          "text": [
            "\n",
            "==================================================\n",
            "📝 Short Report: Model Generalization Discussion\n",
            "==================================================\n",
            "\n",
            "In this time-series forecasting project, we compared the performance of ARIMA and LSTM models.\n",
            "Generally, in the case of non-linear and volatile data like stock prices:\n",
            "\n",
            "1.  **ARIMA:** This is a linear model. It can capture the linear trend and short-term patterns present in the training data. However, it cannot effectively model sudden market changes, external events, or complex non-linear relationships (long-term dependencies) within the data. Consequently, it shows **weaker generalization** compared to LSTM.\n",
            "\n",
            "2.  **LSTM:** This is a deep learning model based on the Recurrent Neural Network (RNN) architecture. LSTM's special memory cells help it remember long-term patterns. It can effectively model complex **non-linear** data patterns. For this reason, LSTM typically demonstrates **stronger generalization** than ARIMA, which is proven by the RMSE and MAPE metrics. In volatile environments like the stock market, the LSTM model is usually considered the **best model** for forecasting.\n",
            "\n",
            "In this dataset, the RMSE and MAPE values of **LSTM** will likely be lower than those of ARIMA, indicating that the LSTM model generalized better.\n",
            "\n"
          ]
        }
      ]
    },
    {
      "cell_type": "markdown",
      "source": [
        "### Deployment"
      ],
      "metadata": {
        "id": "b0acMaSL-ec1"
      }
    },
    {
      "cell_type": "code",
      "source": [
        "import joblib\n",
        "import tensorflow as tf\n",
        "\n",
        "# 1. LSTM model save(HDF5 format)\n",
        "lstm_model.save('best_lstm_model.h5')\n",
        "print(\"LSTM Model Saved as best_lstm_model.h5\")\n",
        "\n",
        "# 2. MinMaxScaler save\n",
        "joblib.dump(scaler, 'scaler.pkl')\n",
        "print(\"Scaler Saved as scaler.pkl\")"
      ],
      "metadata": {
        "colab": {
          "base_uri": "https://localhost:8080/"
        },
        "id": "wYLDfPP3rYRY",
        "outputId": "7af6e52e-26cf-4219-e0af-5342a3acd8b8"
      },
      "execution_count": 40,
      "outputs": [
        {
          "output_type": "stream",
          "name": "stderr",
          "text": [
            "WARNING:absl:You are saving your model as an HDF5 file via `model.save()` or `keras.saving.save_model(model)`. This file format is considered legacy. We recommend using instead the native Keras format, e.g. `model.save('my_model.keras')` or `keras.saving.save_model(model, 'my_model.keras')`. \n"
          ]
        },
        {
          "output_type": "stream",
          "name": "stdout",
          "text": [
            "LSTM Model Saved as best_lstm_model.h5\n",
            "Scaler Saved as scaler.pkl\n"
          ]
        }
      ]
    },
    {
      "cell_type": "markdown",
      "source": [
        "###Final report and nootbook"
      ],
      "metadata": {
        "id": "Dj6s3pV6NIKp"
      }
    },
    {
      "cell_type": "code",
      "source": [
        "import joblib\n",
        "import tensorflow as tf\n",
        "print(\"\\n--- Saving Model Assets for Deployment ---\")\n",
        "\n",
        "try:\n",
        "    lstm_model.save('best_lstm_model.h5')\n",
        "    print(\"LSTM Model Saved Successfully: best_lstm_model.h5\")\n",
        "except Exception as e:\n",
        "    print(f\"Error saving LSTM model: {e}\")\n",
        "\n",
        "try:\n",
        "    joblib.dump(scaler, 'scaler.pkl')\n",
        "    print(\"Scaler Saved Successfully: scaler.pkl\")\n",
        "except Exception as e:\n",
        "    print(f\" Error saving scaler: {e}\")"
      ],
      "metadata": {
        "colab": {
          "base_uri": "https://localhost:8080/"
        },
        "id": "dbV1aVaCMZXx",
        "outputId": "fb7abdc6-61ae-431c-a1bb-ddcafb563a83"
      },
      "execution_count": 41,
      "outputs": [
        {
          "output_type": "stream",
          "name": "stderr",
          "text": [
            "WARNING:absl:You are saving your model as an HDF5 file via `model.save()` or `keras.saving.save_model(model)`. This file format is considered legacy. We recommend using instead the native Keras format, e.g. `model.save('my_model.keras')` or `keras.saving.save_model(model, 'my_model.keras')`. \n"
          ]
        },
        {
          "output_type": "stream",
          "name": "stdout",
          "text": [
            "\n",
            "--- Saving Model Assets for Deployment ---\n",
            "LSTM Model Saved Successfully: best_lstm_model.h5\n",
            "Scaler Saved Successfully: scaler.pkl\n"
          ]
        }
      ]
    },
    {
      "cell_type": "markdown",
      "source": [
        "###streamlit_app.py"
      ],
      "metadata": {
        "id": "rclbHg63M3-b"
      }
    },
    {
      "cell_type": "code",
      "source": [
        "import streamlit as st\n",
        "import pandas as pd\n",
        "import numpy as np\n",
        "import joblib\n",
        "import tensorflow as tf\n",
        "from tensorflow.keras.models import load_model\n",
        "import yfinance as yf\n",
        "\n",
        "LOOKBACK_PERIOD = 60\n",
        "\n",
        "@st.cache_resource\n",
        "def load_assets():\n",
        "    try:\n",
        "        model = load_model('best_lstm_model.h5')\n",
        "        scaler = joblib.load('scaler.pkl')\n",
        "        return model, scaler\n",
        "    except Exception as e:\n",
        "        st.error(f\"Error loading model assets. Please check if best_lstm_model.h5 and scaler.pkl are uploaded: {e}\")\n",
        "        return None, None\n",
        "\n",
        "lstm_model, scaler = load_assets()\n",
        "\n",
        "st.title(\"GOOGL Stock Price Forecasting (DataSynthis Task)\")\n",
        "st.caption(\"Deployment by Hugging Face Streamlit\")\n",
        "\n",
        "if lstm_model and scaler:\n",
        "    st.subheader(f\"Forecasting Next Day's Price (Based on last {LOOKBACK_PERIOD} days)\")\n",
        "\n",
        "    try:\n",
        "        data = yf.download(\"GOOGL\", period=f\"{LOOKBACK_PERIOD}d\")\n",
        "\n",
        "        if len(data) < LOOKBACK_PERIOD:\n",
        "            st.warning(f\"Insufficient data (only {len(data)} days available). Cannot forecast.\")\n",
        "        else:\n",
        "            last_days = data['Adj Close'].tail(LOOKBACK_PERIOD).values.reshape(-1, 1)\n",
        "\n",
        "            scaled_last_days = scaler.transform(last_days)\n",
        "\n",
        "            X_input = scaled_last_days.reshape(1, LOOKBACK_PERIOD, 1)\n",
        "\n",
        "\n",
        "            predicted_scaled_price = lstm_model.predict(X_input, verbose=0)\n",
        "\n",
        "            predicted_price = scaler.inverse_transform(predicted_scaled_price)[0, 0]\n",
        "\n",
        "            st.metric(\"Predicted Adjusted Close Price:\", f\"${predicted_price:.2f}\")\n",
        "\n",
        "            st.markdown(\"---\")\n",
        "            st.write(f\"Last recorded price ({data.index[-1].strftime('%Y-%m-%d')}): **${data['Adj Close'].iloc[-1]:.2f}**\")\n",
        "\n",
        "    except Exception as e:\n",
        "        st.error(f\"A real-time data or prediction error occurred. Check YFinance connection: {e}\")"
      ],
      "metadata": {
        "colab": {
          "base_uri": "https://localhost:8080/"
        },
        "id": "td6JE_ORMluR",
        "outputId": "75483dbb-0eee-43d2-a863-d957381a0557"
      },
      "execution_count": 44,
      "outputs": [
        {
          "output_type": "stream",
          "name": "stderr",
          "text": [
            "2025-10-01 19:16:35.013 WARNING streamlit.runtime.scriptrunner_utils.script_run_context: Thread 'MainThread': missing ScriptRunContext! This warning can be ignored when running in bare mode.\n",
            "2025-10-01 19:16:35.627 \n",
            "  \u001b[33m\u001b[1mWarning:\u001b[0m to view this Streamlit app on a browser, run it with the following\n",
            "  command:\n",
            "\n",
            "    streamlit run /usr/local/lib/python3.12/dist-packages/colab_kernel_launcher.py [ARGUMENTS]\n",
            "2025-10-01 19:16:35.645 Thread 'MainThread': missing ScriptRunContext! This warning can be ignored when running in bare mode.\n",
            "2025-10-01 19:16:35.652 Thread 'MainThread': missing ScriptRunContext! This warning can be ignored when running in bare mode.\n",
            "2025-10-01 19:16:35.658 Thread 'MainThread': missing ScriptRunContext! This warning can be ignored when running in bare mode.\n",
            "2025-10-01 19:16:36.170 Thread 'Thread-6': missing ScriptRunContext! This warning can be ignored when running in bare mode.\n",
            "2025-10-01 19:16:36.182 Thread 'Thread-6': missing ScriptRunContext! This warning can be ignored when running in bare mode.\n",
            "2025-10-01 19:16:36.199 Thread 'Thread-6': missing ScriptRunContext! This warning can be ignored when running in bare mode.\n",
            "WARNING:absl:Compiled the loaded model, but the compiled metrics have yet to be built. `model.compile_metrics` will be empty until you train or evaluate the model.\n",
            "2025-10-01 19:16:36.283 Thread 'MainThread': missing ScriptRunContext! This warning can be ignored when running in bare mode.\n",
            "2025-10-01 19:16:36.296 Thread 'MainThread': missing ScriptRunContext! This warning can be ignored when running in bare mode.\n",
            "2025-10-01 19:16:36.299 Thread 'MainThread': missing ScriptRunContext! This warning can be ignored when running in bare mode.\n",
            "2025-10-01 19:16:36.313 Thread 'MainThread': missing ScriptRunContext! This warning can be ignored when running in bare mode.\n",
            "2025-10-01 19:16:36.321 Thread 'MainThread': missing ScriptRunContext! This warning can be ignored when running in bare mode.\n",
            "2025-10-01 19:16:36.326 Thread 'MainThread': missing ScriptRunContext! This warning can be ignored when running in bare mode.\n",
            "2025-10-01 19:16:36.335 Thread 'MainThread': missing ScriptRunContext! This warning can be ignored when running in bare mode.\n",
            "2025-10-01 19:16:36.340 Thread 'MainThread': missing ScriptRunContext! This warning can be ignored when running in bare mode.\n",
            "2025-10-01 19:16:36.344 Thread 'MainThread': missing ScriptRunContext! This warning can be ignored when running in bare mode.\n",
            "2025-10-01 19:16:36.353 Thread 'MainThread': missing ScriptRunContext! This warning can be ignored when running in bare mode.\n",
            "2025-10-01 19:16:36.356 Thread 'MainThread': missing ScriptRunContext! This warning can be ignored when running in bare mode.\n",
            "2025-10-01 19:16:36.358 Thread 'MainThread': missing ScriptRunContext! This warning can be ignored when running in bare mode.\n",
            "[*********************100%***********************]  1 of 1 completed\n",
            "2025-10-01 19:16:36.592 Thread 'MainThread': missing ScriptRunContext! This warning can be ignored when running in bare mode.\n",
            "2025-10-01 19:16:36.596 Thread 'MainThread': missing ScriptRunContext! This warning can be ignored when running in bare mode.\n",
            "2025-10-01 19:16:36.604 Thread 'MainThread': missing ScriptRunContext! This warning can be ignored when running in bare mode.\n"
          ]
        }
      ]
    },
    {
      "cell_type": "code",
      "metadata": {
        "colab": {
          "base_uri": "https://localhost:8080/"
        },
        "id": "58729831",
        "outputId": "8e3bce15-b5c4-43c0-88ab-b6a32199ffd3"
      },
      "source": [
        "!pip install streamlit"
      ],
      "execution_count": 43,
      "outputs": [
        {
          "output_type": "stream",
          "name": "stdout",
          "text": [
            "Collecting streamlit\n",
            "  Downloading streamlit-1.50.0-py3-none-any.whl.metadata (9.5 kB)\n",
            "Requirement already satisfied: altair!=5.4.0,!=5.4.1,<6,>=4.0 in /usr/local/lib/python3.12/dist-packages (from streamlit) (5.5.0)\n",
            "Requirement already satisfied: blinker<2,>=1.5.0 in /usr/local/lib/python3.12/dist-packages (from streamlit) (1.9.0)\n",
            "Requirement already satisfied: cachetools<7,>=4.0 in /usr/local/lib/python3.12/dist-packages (from streamlit) (5.5.2)\n",
            "Requirement already satisfied: click<9,>=7.0 in /usr/local/lib/python3.12/dist-packages (from streamlit) (8.2.1)\n",
            "Requirement already satisfied: numpy<3,>=1.23 in /usr/local/lib/python3.12/dist-packages (from streamlit) (1.26.0)\n",
            "Requirement already satisfied: packaging<26,>=20 in /usr/local/lib/python3.12/dist-packages (from streamlit) (25.0)\n",
            "Requirement already satisfied: pandas<3,>=1.4.0 in /usr/local/lib/python3.12/dist-packages (from streamlit) (2.2.2)\n",
            "Requirement already satisfied: pillow<12,>=7.1.0 in /usr/local/lib/python3.12/dist-packages (from streamlit) (11.3.0)\n",
            "Requirement already satisfied: protobuf<7,>=3.20 in /usr/local/lib/python3.12/dist-packages (from streamlit) (5.29.5)\n",
            "Requirement already satisfied: pyarrow>=7.0 in /usr/local/lib/python3.12/dist-packages (from streamlit) (18.1.0)\n",
            "Requirement already satisfied: requests<3,>=2.27 in /usr/local/lib/python3.12/dist-packages (from streamlit) (2.32.4)\n",
            "Requirement already satisfied: tenacity<10,>=8.1.0 in /usr/local/lib/python3.12/dist-packages (from streamlit) (8.5.0)\n",
            "Requirement already satisfied: toml<2,>=0.10.1 in /usr/local/lib/python3.12/dist-packages (from streamlit) (0.10.2)\n",
            "Requirement already satisfied: typing-extensions<5,>=4.4.0 in /usr/local/lib/python3.12/dist-packages (from streamlit) (4.15.0)\n",
            "Requirement already satisfied: watchdog<7,>=2.1.5 in /usr/local/lib/python3.12/dist-packages (from streamlit) (6.0.0)\n",
            "Requirement already satisfied: gitpython!=3.1.19,<4,>=3.0.7 in /usr/local/lib/python3.12/dist-packages (from streamlit) (3.1.45)\n",
            "Collecting pydeck<1,>=0.8.0b4 (from streamlit)\n",
            "  Downloading pydeck-0.9.1-py2.py3-none-any.whl.metadata (4.1 kB)\n",
            "Requirement already satisfied: tornado!=6.5.0,<7,>=6.0.3 in /usr/local/lib/python3.12/dist-packages (from streamlit) (6.4.2)\n",
            "Requirement already satisfied: jinja2 in /usr/local/lib/python3.12/dist-packages (from altair!=5.4.0,!=5.4.1,<6,>=4.0->streamlit) (3.1.6)\n",
            "Requirement already satisfied: jsonschema>=3.0 in /usr/local/lib/python3.12/dist-packages (from altair!=5.4.0,!=5.4.1,<6,>=4.0->streamlit) (4.25.1)\n",
            "Requirement already satisfied: narwhals>=1.14.2 in /usr/local/lib/python3.12/dist-packages (from altair!=5.4.0,!=5.4.1,<6,>=4.0->streamlit) (2.5.0)\n",
            "Requirement already satisfied: gitdb<5,>=4.0.1 in /usr/local/lib/python3.12/dist-packages (from gitpython!=3.1.19,<4,>=3.0.7->streamlit) (4.0.12)\n",
            "Requirement already satisfied: python-dateutil>=2.8.2 in /usr/local/lib/python3.12/dist-packages (from pandas<3,>=1.4.0->streamlit) (2.9.0.post0)\n",
            "Requirement already satisfied: pytz>=2020.1 in /usr/local/lib/python3.12/dist-packages (from pandas<3,>=1.4.0->streamlit) (2025.2)\n",
            "Requirement already satisfied: tzdata>=2022.7 in /usr/local/lib/python3.12/dist-packages (from pandas<3,>=1.4.0->streamlit) (2025.2)\n",
            "Requirement already satisfied: charset_normalizer<4,>=2 in /usr/local/lib/python3.12/dist-packages (from requests<3,>=2.27->streamlit) (3.4.3)\n",
            "Requirement already satisfied: idna<4,>=2.5 in /usr/local/lib/python3.12/dist-packages (from requests<3,>=2.27->streamlit) (3.10)\n",
            "Requirement already satisfied: urllib3<3,>=1.21.1 in /usr/local/lib/python3.12/dist-packages (from requests<3,>=2.27->streamlit) (2.5.0)\n",
            "Requirement already satisfied: certifi>=2017.4.17 in /usr/local/lib/python3.12/dist-packages (from requests<3,>=2.27->streamlit) (2025.8.3)\n",
            "Requirement already satisfied: smmap<6,>=3.0.1 in /usr/local/lib/python3.12/dist-packages (from gitdb<5,>=4.0.1->gitpython!=3.1.19,<4,>=3.0.7->streamlit) (5.0.2)\n",
            "Requirement already satisfied: MarkupSafe>=2.0 in /usr/local/lib/python3.12/dist-packages (from jinja2->altair!=5.4.0,!=5.4.1,<6,>=4.0->streamlit) (3.0.2)\n",
            "Requirement already satisfied: attrs>=22.2.0 in /usr/local/lib/python3.12/dist-packages (from jsonschema>=3.0->altair!=5.4.0,!=5.4.1,<6,>=4.0->streamlit) (25.3.0)\n",
            "Requirement already satisfied: jsonschema-specifications>=2023.03.6 in /usr/local/lib/python3.12/dist-packages (from jsonschema>=3.0->altair!=5.4.0,!=5.4.1,<6,>=4.0->streamlit) (2025.9.1)\n",
            "Requirement already satisfied: referencing>=0.28.4 in /usr/local/lib/python3.12/dist-packages (from jsonschema>=3.0->altair!=5.4.0,!=5.4.1,<6,>=4.0->streamlit) (0.36.2)\n",
            "Requirement already satisfied: rpds-py>=0.7.1 in /usr/local/lib/python3.12/dist-packages (from jsonschema>=3.0->altair!=5.4.0,!=5.4.1,<6,>=4.0->streamlit) (0.27.1)\n",
            "Requirement already satisfied: six>=1.5 in /usr/local/lib/python3.12/dist-packages (from python-dateutil>=2.8.2->pandas<3,>=1.4.0->streamlit) (1.17.0)\n",
            "Downloading streamlit-1.50.0-py3-none-any.whl (10.1 MB)\n",
            "\u001b[2K   \u001b[90m━━━━━━━━━━━━━━━━━━━━━━━━━━━━━━━━━━━━━━━━\u001b[0m \u001b[32m10.1/10.1 MB\u001b[0m \u001b[31m54.0 MB/s\u001b[0m eta \u001b[36m0:00:00\u001b[0m\n",
            "\u001b[?25hDownloading pydeck-0.9.1-py2.py3-none-any.whl (6.9 MB)\n",
            "\u001b[2K   \u001b[90m━━━━━━━━━━━━━━━━━━━━━━━━━━━━━━━━━━━━━━━━\u001b[0m \u001b[32m6.9/6.9 MB\u001b[0m \u001b[31m53.2 MB/s\u001b[0m eta \u001b[36m0:00:00\u001b[0m\n",
            "\u001b[?25hInstalling collected packages: pydeck, streamlit\n",
            "Successfully installed pydeck-0.9.1 streamlit-1.50.0\n"
          ]
        }
      ]
    },
    {
      "cell_type": "markdown",
      "source": [
        "### **Dataset save (Desktop)**\n",
        "* ডেটাফ্রেমটিকে CSV ফাইলে সেভ করুন:\n",
        "\n",
        "\n",
        "  প্রথমে, আপনি যে ফাইলটি ডাউনলোড করতে চান, সেটিকে আপনার Colab এনভায়রনমেন্টে সেভ করুন। আপনি একটি উপযুক্ত নাম দিন, যেমন: googl_stock_data.csv।"
      ],
      "metadata": {
        "id": "sbQfFqqSN06C"
      }
    },
    {
      "cell_type": "code",
      "source": [
        "# ফাইলে সেভ করার কোড\n",
        "file_name = 'googl_stock_data.csv'\n",
        "\n",
        "# index=True রাখলে তারিখ কলামটিও সেভ হবে, যা দরকার।\n",
        "data.to_csv(file_name, index=True)\n",
        "\n",
        "print(f\"'{file_name}' ফাইলটি সফলভাবে Colab-এ তৈরি হয়েছে।\")"
      ],
      "metadata": {
        "colab": {
          "base_uri": "https://localhost:8080/"
        },
        "id": "M8rxcxHON0M-",
        "outputId": "bf26934b-fe8f-4f9c-b92a-7453864e26dd"
      },
      "execution_count": 45,
      "outputs": [
        {
          "output_type": "stream",
          "name": "stdout",
          "text": [
            "'googl_stock_data.csv' ফাইলটি সফলভাবে Colab-এ তৈরি হয়েছে।\n"
          ]
        }
      ]
    },
    {
      "cell_type": "markdown",
      "source": [
        "* ফাইলটি আপনার ডেস্কটপে ডাউনলোড করুন:\n",
        "  \n",
        "  google.colab.files লাইব্রেরি ব্যবহার করে তৈরি করা ফাইলটি সরাসরি আপনার লোকাল মেশিনে ডাউনলোড করুন।"
      ],
      "metadata": {
        "id": "KjWjtXejOHZK"
      }
    },
    {
      "cell_type": "code",
      "source": [
        "import yfinance as yf\n",
        "from google.colab import files\n",
        "import pandas as pd # pandas লাইব্রেরি নিশ্চিত করতে\n",
        "\n",
        "# সম্পূর্ণ ১০ বছরের প্যারামিটার\n",
        "ticker = 'GOOGL'\n",
        "start_date = '2015-01-01'\n",
        "end_date = '2025-01-01'\n",
        "\n",
        "# আসল, সম্পূর্ণ ডেটা ডাউনলোড করা\n",
        "data = yf.download(ticker, start=start_date, end=end_date)\n",
        "\n",
        "# কলামগুলি সরলীকরণ (যদি প্রয়োজন হয়)\n",
        "data.columns = [col for col in data.columns.get_level_values(0)]\n",
        "\n",
        "print(f\"✅ সম্পূর্ণ ডেটা সাইজ: {len(data)} টি রো এবং {len(data.columns)} টি কলাম।\")"
      ],
      "metadata": {
        "colab": {
          "base_uri": "https://localhost:8080/"
        },
        "id": "sMPmo157N0J5",
        "outputId": "20789ed7-29c3-463f-a8e1-c5695c39216a"
      },
      "execution_count": 47,
      "outputs": [
        {
          "output_type": "stream",
          "name": "stderr",
          "text": [
            "\r[*********************100%***********************]  1 of 1 completed"
          ]
        },
        {
          "output_type": "stream",
          "name": "stdout",
          "text": [
            "✅ সম্পূর্ণ ডেটা সাইজ: 2516 টি রো এবং 5 টি কলাম।\n"
          ]
        },
        {
          "output_type": "stream",
          "name": "stderr",
          "text": [
            "\n"
          ]
        }
      ]
    },
    {
      "cell_type": "code",
      "source": [
        "# ফাইলে সেভ করার কোড\n",
        "file_name = 'full_googl_stock_data.csv'\n",
        "\n",
        "# সম্পূর্ণ ডেটা সেভ করা\n",
        "data.to_csv(file_name, index=True)\n",
        "\n",
        "# ফাইলটি আপনার ডেস্কটপে ডাউনলোড করুন\n",
        "files.download(file_name)\n",
        "\n",
        "print(f\"'{file_name}' ফাইলটি সফলভাবে আপনার কম্পিউটারে ডাউনলোড হচ্ছে।\")"
      ],
      "metadata": {
        "colab": {
          "base_uri": "https://localhost:8080/",
          "height": 34
        },
        "id": "O9JS6dhQPTw6",
        "outputId": "fd992353-e78c-4f3f-c7b7-890d534974e8"
      },
      "execution_count": 48,
      "outputs": [
        {
          "output_type": "display_data",
          "data": {
            "text/plain": [
              "<IPython.core.display.Javascript object>"
            ],
            "application/javascript": [
              "\n",
              "    async function download(id, filename, size) {\n",
              "      if (!google.colab.kernel.accessAllowed) {\n",
              "        return;\n",
              "      }\n",
              "      const div = document.createElement('div');\n",
              "      const label = document.createElement('label');\n",
              "      label.textContent = `Downloading \"${filename}\": `;\n",
              "      div.appendChild(label);\n",
              "      const progress = document.createElement('progress');\n",
              "      progress.max = size;\n",
              "      div.appendChild(progress);\n",
              "      document.body.appendChild(div);\n",
              "\n",
              "      const buffers = [];\n",
              "      let downloaded = 0;\n",
              "\n",
              "      const channel = await google.colab.kernel.comms.open(id);\n",
              "      // Send a message to notify the kernel that we're ready.\n",
              "      channel.send({})\n",
              "\n",
              "      for await (const message of channel.messages) {\n",
              "        // Send a message to notify the kernel that we're ready.\n",
              "        channel.send({})\n",
              "        if (message.buffers) {\n",
              "          for (const buffer of message.buffers) {\n",
              "            buffers.push(buffer);\n",
              "            downloaded += buffer.byteLength;\n",
              "            progress.value = downloaded;\n",
              "          }\n",
              "        }\n",
              "      }\n",
              "      const blob = new Blob(buffers, {type: 'application/binary'});\n",
              "      const a = document.createElement('a');\n",
              "      a.href = window.URL.createObjectURL(blob);\n",
              "      a.download = filename;\n",
              "      div.appendChild(a);\n",
              "      a.click();\n",
              "      div.remove();\n",
              "    }\n",
              "  "
            ]
          },
          "metadata": {}
        },
        {
          "output_type": "display_data",
          "data": {
            "text/plain": [
              "<IPython.core.display.Javascript object>"
            ],
            "application/javascript": [
              "download(\"download_f490c407-ca7d-41d5-8286-11fed2ebc983\", \"full_googl_stock_data.csv\", 234959)"
            ]
          },
          "metadata": {}
        },
        {
          "output_type": "stream",
          "name": "stdout",
          "text": [
            "'full_googl_stock_data.csv' ফাইলটি সফলভাবে আপনার কম্পিউটারে ডাউনলোড হচ্ছে।\n"
          ]
        }
      ]
    }
  ]
}